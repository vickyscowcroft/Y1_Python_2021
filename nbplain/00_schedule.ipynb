{
 "cells": [
  {
   "cell_type": "markdown",
   "metadata": {
    "slideshow": {
     "slide_type": "slide"
    }
   },
   "source": [
    "# PH10102 Python 2020/21\n",
    "\n",
    "This is the collection of notebooks used for the University of Bath PH10102 Experimental physics and computing 1 Python labs. \n",
    "\n",
    "You can access each set of notebooks through the links below. Some exercises require data files that are linked within the relavent notebooks. "
   ]
  },
  {
   "cell_type": "markdown",
   "metadata": {
    "slideshow": {
     "slide_type": "slide"
    }
   },
   "source": [
    "## Prerequisites:\n",
    "\n",
    "These lessons assume you have a basic knowledge of coding and python, such as how to assign variables, do simple calculations and write a function. However, I try to review these concepts where appropriate."
   ]
  },
  {
   "cell_type": "markdown",
   "metadata": {
    "slideshow": {
     "slide_type": "slide"
    }
   },
   "source": [
    "## Sections:\n",
    "\n",
    "| Section | Description |\n",
    "|---|---|\n",
    "| [Introduction to Jupyter Notebooks](part1/00_schedule.ipynb) | Introduction to Jupyter notebooks, review of Python basics.|\n",
    "| [Handling with data with Python and Pandas](part2/00_schedule.ipynb) | Working with data using Python and `pandas` |\n",
    "| [Least squares fitting and uncertainties](part3/00_schedule.ipynb) | Fitting models to data, assessing uncertainties\n",
    "| [More pandas and plt](part4/00_schedule.ipynb) | Combining datasets with `pandas`, fancy data visualisations |"
   ]
  },
  {
   "cell_type": "markdown",
   "metadata": {
    "slideshow": {
     "slide_type": "slide"
    }
   },
   "source": [
    "## Setup:\n",
    "\n",
    "These instructions assume you already have python and jupyter installed. If you're using the standard [Anaconda](https://docs.anaconda.com/anaconda/install/) installation, you shouldn't need to install any extra packages. If not, you may also need to install the follwing packages:\n",
    "\n",
    "* `numpy`\n",
    "* `matplotlib`\n",
    "* `scipy`\n",
    "* `pandas`\n",
    "\n"
   ]
  },
  {
   "cell_type": "markdown",
   "metadata": {},
   "source": [
    "## Comments and suggestions?\n",
    "\n",
    "If you have any comments and/or suggestions for improvements to these lessons, please get in touch with Vicky Scowcroft (email on University of Bath website)."
   ]
  }
 ],
 "metadata": {
  "celltoolbar": "Slideshow",
  "kernelspec": {
   "display_name": "Python 3",
   "language": "python",
   "name": "python3"
  },
  "language_info": {
   "codemirror_mode": {
    "name": "ipython",
    "version": 3
   },
   "file_extension": ".py",
   "mimetype": "text/x-python",
   "name": "python",
   "nbconvert_exporter": "python",
   "pygments_lexer": "ipython3",
   "version": "3.7.4"
  }
 },
 "nbformat": 4,
 "nbformat_minor": 2
}

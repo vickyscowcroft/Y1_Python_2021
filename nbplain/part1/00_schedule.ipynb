{
 "cells": [
  {
   "cell_type": "markdown",
   "metadata": {
    "slideshow": {
     "slide_type": "slide"
    }
   },
   "source": [
    "# Introduction to Jupyter Notebooks\n",
    "\n",
    "In this section of the course we'll be using a new tool for working with Python - **Jupyter Notebooks**. This week we'll get started using notebooks, looking at the different features and reviewing some of the Python concepts you covered in Semester 1. \n",
    "\n",
    "The notes for this section are static renderings of Jupyter notebooks. You won't be able to run the code in these pages directly from your browser. Instead you should follow along with your own notebook open in another window and work on the examples and exercises in that. \n",
    "\n",
    "How to start a new notebook is covered in [Section 1](01_intro_notebooks.ipynb)."
   ]
  },
  {
   "cell_type": "markdown",
   "metadata": {
    "slideshow": {
     "slide_type": "slide"
    }
   },
   "source": [
    "## Prerequisites:\n",
    "\n",
    "While I'm assuming that you're reasonably comfortable with the material covered in Semester 1, we will be reviewing parts of it in the coming weeks. The best ways to improve your coding skills are to practice and to play around with things. Don't be scared of changing bits of code to see what happens - you can always change things back if they don't work and I'm not asking you to do anything that will seriously break something. "
   ]
  },
  {
   "cell_type": "markdown",
   "metadata": {
    "slideshow": {
     "slide_type": "slide"
    }
   },
   "source": [
    "## Schedule:\n",
    "\n",
    "| Section | Description |\n",
    "|---|---|\n",
    " | [Introduction to Notebooks](01_intro_notebooks.ipynb) | Introduction to Jupyter Notebooks |\n",
    " | [Electronic Lab Books](02_intro_to_markdown.ipynb) | Markdown and electronic lab books |\n",
    " | [Python in Notebooks](03_start_python.ipynb) | Adding Python to your notebook | \n",
    " | [Pseudocode and Functions](04_functions_and_pseudocode.ipynb) | Writing pseudocode and functions |\n",
    " | [Exercises](05_more_exercises.ipynb) | More exercises | \n"
   ]
  },
  {
   "cell_type": "markdown",
   "metadata": {
    "slideshow": {
     "slide_type": "slide"
    }
   },
   "source": [
    "## Setup:\n",
    "\n",
    "You should already have Anaconda installed on your own computer, or be able to access it through UniApps. [Section 1](01_intro_notebooks.ipynb) covers how to start notebooks using either of these methods."
   ]
  }
 ],
 "metadata": {
  "celltoolbar": "Slideshow",
  "kernelspec": {
   "display_name": "Python 3",
   "language": "python",
   "name": "python3"
  },
  "language_info": {
   "codemirror_mode": {
    "name": "ipython",
    "version": 3
   },
   "file_extension": ".py",
   "mimetype": "text/x-python",
   "name": "python",
   "nbconvert_exporter": "python",
   "pygments_lexer": "ipython3",
   "version": "3.7.3"
  },
  "toc": {
   "colors": {
    "hover_highlight": "#DAA520",
    "running_highlight": "#FF0000",
    "selected_highlight": "#FFD700"
   },
   "moveMenuLeft": true,
   "nav_menu": {
    "height": "88px",
    "width": "252px"
   },
   "navigate_menu": true,
   "number_sections": true,
   "sideBar": true,
   "threshold": 4,
   "toc_cell": false,
   "toc_section_display": "block",
   "toc_window_display": false
  }
 },
 "nbformat": 4,
 "nbformat_minor": 2
}

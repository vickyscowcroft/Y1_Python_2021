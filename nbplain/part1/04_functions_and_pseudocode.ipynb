{
 "cells": [
  {
   "cell_type": "code",
   "execution_count": 1,
   "metadata": {
    "execution": {
     "iopub.execute_input": "2021-02-12T12:10:47.525300Z",
     "iopub.status.busy": "2021-02-12T12:10:47.524580Z",
     "iopub.status.idle": "2021-02-12T12:10:48.072998Z",
     "shell.execute_reply": "2021-02-12T12:10:48.074111Z"
    }
   },
   "outputs": [],
   "source": [
    "import numpy as np\n",
    "import matplotlib.pyplot as plt\n"
   ]
  },
  {
   "cell_type": "code",
   "execution_count": 2,
   "metadata": {
    "execution": {
     "iopub.execute_input": "2021-02-12T12:10:48.090435Z",
     "iopub.status.busy": "2021-02-12T12:10:48.089128Z",
     "iopub.status.idle": "2021-02-12T12:10:48.091939Z",
     "shell.execute_reply": "2021-02-12T12:10:48.092635Z"
    }
   },
   "outputs": [],
   "source": [
    "%config InlineBackend.figure_format = 'retina'\n",
    "%matplotlib inline"
   ]
  },
  {
   "cell_type": "code",
   "execution_count": 3,
   "metadata": {
    "execution": {
     "iopub.execute_input": "2021-02-12T12:10:48.097765Z",
     "iopub.status.busy": "2021-02-12T12:10:48.097105Z",
     "iopub.status.idle": "2021-02-12T12:10:48.099404Z",
     "shell.execute_reply": "2021-02-12T12:10:48.100194Z"
    }
   },
   "outputs": [],
   "source": [
    "plt.rcParams.update({'font.size':16}) "
   ]
  },
  {
   "cell_type": "markdown",
   "metadata": {
    "slideshow": {
     "slide_type": "slide"
    }
   },
   "source": [
    "# Functions and Pseudocode"
   ]
  },
  {
   "cell_type": "markdown",
   "metadata": {
    "slideshow": {
     "slide_type": "slide"
    }
   },
   "source": [
    "## Overview:\n",
    "\n",
    "**Questions**\n",
    "- How do you write pseudocode in notebooks? \n",
    "- How do you write functions in notebooks?\n",
    "- How do you set the default values in functions?\n",
    "\n",
    "**Objectives**\n",
    "- Write some pseudocode\n",
    "- Write a function\n",
    "- Set the default values for the function"
   ]
  },
  {
   "cell_type": "markdown",
   "metadata": {},
   "source": [
    "In this section we'll be revisiting functions and pseudocode. If you need a refresher on these take a look back at worksheets C4 and C5 from semester 1.\n",
    "\n"
   ]
  },
  {
   "cell_type": "markdown",
   "metadata": {},
   "source": [
    "## Fibonacci sequence\n",
    "\n",
    "On worksheet C4 the final exercise was to write an algorithm to determine the first 20 values of the Fibonacci sequence using pseudocode, then convert your psuedocode to a script. We're going to take another look at this exercise. The difference is that this time we'll be writing our psuedocode in the notebook.\n",
    "\n",
    "\n",
    "The fist thing to do is try to write down what's happening when we're calculating the values of the Fibonacci sequence:\n",
    "\n",
    "### Algorithm\n",
    "\n",
    "```\n",
    "1. first value is 1\n",
    "2. second value is 1\n",
    "3.  next value is value[next] + value[next - 1]\n",
    "* need something to deal with the first value\n",
    "* need something to count the number of values \n",
    "```\n",
    "The pseudocode above will get us most of the way there. To get a useful function we're going to need some way of keeping track of how many times we've run the code, and to deal with the start of the function (i.e. setting the first and second values to 1). This is what the last two lines in the pseudocode deal with. \n",
    "\n",
    "Remember, your pseudocode doesn't need to be perfect. It needs to be written in a way that *you* understand, and (ideally) so that someone who may not know the programming language you're using could interpret it. \n",
    "\n",
    "\n"
   ]
  },
  {
   "cell_type": "markdown",
   "metadata": {},
   "source": [
    "### Turning pseudocode into code\n",
    "\n",
    "Now we know what we want the code to do we can start turning it into Python code. Line 3 of the pseudocode \n",
    "```\n",
    "3.  next value is value[next] + value[next - 1]\n",
    "```\n",
    "tells us that we're going to need a loop in here somewhere. The first two lines tell us that we could use an `if` statement. \n",
    "\n",
    "We want to print the first 20 values in the sequence, so the first thing to do is set up an array to hold those values. We do that with the `np.zeros()` function. This creates an array with 20 elements all set to zero. "
   ]
  },
  {
   "cell_type": "markdown",
   "metadata": {},
   "source": [
    "We then want to fill the array using a `for` loop. To keep track of the number of iterations we can use \n",
    "```py\n",
    "for n in range(20):\n",
    "```\n",
    "The `range` function is very useful for loops. "
   ]
  },
  {
   "cell_type": "markdown",
   "metadata": {
    "slideshow": {
     "slide_type": "slide"
    }
   },
   "source": [
    "## Exercise: Exercise 2\n",
    "Check that you understand what the `range` function is doing. In an empty cell in your notebook write some code to print  \n",
    "1. what `range(20)` returns \n",
    "2. what `n` returns in a `for n in range(20)` loop\n",
    "\n",
    "[solution]()"
   ]
  },
  {
   "cell_type": "markdown",
   "metadata": {
    "slideshow": {
     "slide_type": "slide"
    }
   },
   "source": [
    "## Solution+:  Exercise 2\n",
    "\n",
    "1. What `range(20)` returns"
   ]
  },
  {
   "cell_type": "code",
   "execution_count": 4,
   "metadata": {},
   "outputs": [
    {
     "name": "stdout",
     "output_type": "stream",
     "text": [
      "range(0, 20)\n"
     ]
    }
   ],
   "source": [
    "print(range(20))"
   ]
  },
  {
   "cell_type": "markdown",
   "metadata": {},
   "source": [
    "2. what `n` returns in a `for n in range(20)` loop"
   ]
  },
  {
   "cell_type": "code",
   "execution_count": 5,
   "metadata": {},
   "outputs": [
    {
     "name": "stdout",
     "output_type": "stream",
     "text": [
      "0\n",
      "1\n",
      "2\n",
      "3\n",
      "4\n",
      "5\n",
      "6\n",
      "7\n",
      "8\n",
      "9\n",
      "10\n",
      "11\n",
      "12\n",
      "13\n",
      "14\n",
      "15\n",
      "16\n",
      "17\n",
      "18\n",
      "19\n"
     ]
    }
   ],
   "source": [
    "for n in range(20):\n",
    "    print(n)"
   ]
  },
  {
   "cell_type": "markdown",
   "metadata": {},
   "source": [
    ":solution+"
   ]
  },
  {
   "cell_type": "markdown",
   "metadata": {},
   "source": [
    "The final step is the `if` statement. We know the first two values are 1, so we should include an `if` statement to deal with those. We can use an `else` statement to deal with the rest of the values. \n"
   ]
  },
  {
   "cell_type": "markdown",
   "metadata": {},
   "source": [
    "## Exercise: Exercise 3\n",
    "\n",
    "Copy the code in the next cell into your notebook. Edit the code so that it prints the first 20 values of the Fibonacci sequence.\n",
    "\n",
    "You'll need to replace the `???`s in the code with the correct values or mathematics.\n",
    "\n",
    "[solution]()"
   ]
  },
  {
   "cell_type": "markdown",
   "metadata": {},
   "source": [
    "```py\n",
    "fibonacci = np.zeros(???)\n",
    "for n in range(???):\n",
    "    if n < ???:\n",
    "        fibonacci[n] = 1\n",
    "    else:\n",
    "        fibonacci[n] = ???\n",
    "print(fibonacci)\n",
    "```"
   ]
  },
  {
   "cell_type": "markdown",
   "metadata": {},
   "source": [
    "## Solution+:  Exercise 3"
   ]
  },
  {
   "cell_type": "code",
   "execution_count": 6,
   "metadata": {},
   "outputs": [
    {
     "name": "stdout",
     "output_type": "stream",
     "text": [
      "[1.000e+00 1.000e+00 2.000e+00 3.000e+00 5.000e+00 8.000e+00 1.300e+01\n",
      " 2.100e+01 3.400e+01 5.500e+01 8.900e+01 1.440e+02 2.330e+02 3.770e+02\n",
      " 6.100e+02 9.870e+02 1.597e+03 2.584e+03 4.181e+03 6.765e+03]\n"
     ]
    }
   ],
   "source": [
    "fibonacci = np.zeros(20)\n",
    "for n in range(20):\n",
    "    if n < 2:\n",
    "        fibonacci[n] = 1\n",
    "    else:\n",
    "        fibonacci[n] = fibonacci[n-2] + fibonacci[n-1]\n",
    "print(fibonacci)"
   ]
  },
  {
   "cell_type": "markdown",
   "metadata": {},
   "source": [
    ":solution+"
   ]
  },
  {
   "cell_type": "markdown",
   "metadata": {},
   "source": [
    "If you've completed Exercise 3 (or looked at the solution...) you'll see that the printed output isn't particularly pretty. When we print the `fibonacci` array we just get an array of floats printed to the screen. We can tidy that up with **formatted print statements**. We covered this a little on the previous page when we were making nicely formatted plot titles. We'll now look at formatting in more detail."
   ]
  },
  {
   "cell_type": "markdown",
   "metadata": {},
   "source": [
    "## Formatted print statements\n",
    "\n",
    "Printing the `fibonacci` array like we did in the exercise above is useful for having a quick look at what the result looks like. But often we want to have the output formatted in a more readable fashion. In the [previous section](03_start_python.ipynb) of this lesson we used string formatting to make the plot titles more useful. The same principles apply to any string formatting."
   ]
  },
  {
   "cell_type": "markdown",
   "metadata": {},
   "source": [
    "For this particular case we know that all our values are integer values. We can change our `print` statement to print them as integers rather than floats using `astype(int)`:"
   ]
  },
  {
   "cell_type": "code",
   "execution_count": 7,
   "metadata": {},
   "outputs": [
    {
     "name": "stdout",
     "output_type": "stream",
     "text": [
      "[   1    1    2    3    5    8   13   21   34   55   89  144  233  377\n",
      "  610  987 1597 2584 4181 6765]\n"
     ]
    }
   ],
   "source": [
    "print(fibonacci.astype(int))"
   ]
  },
  {
   "cell_type": "markdown",
   "metadata": {},
   "source": [
    "We can do a similar thing inside our loop to create a table of the Fibonacci values. Here we're using the `{x:>10d}` notation to tell it to print each value in a right justified column 10 characters wide."
   ]
  },
  {
   "cell_type": "code",
   "execution_count": 8,
   "metadata": {},
   "outputs": [
    {
     "name": "stdout",
     "output_type": "stream",
     "text": [
      "         n  Fibonacci\n",
      "         1          1\n",
      "         2          1\n",
      "         3          2\n",
      "         4          3\n",
      "         5          5\n",
      "         6          8\n",
      "         7         13\n",
      "         8         21\n",
      "         9         34\n",
      "        10         55\n",
      "        11         89\n",
      "        12        144\n",
      "        13        233\n",
      "        14        377\n",
      "        15        610\n",
      "        16        987\n",
      "        17       1597\n",
      "        18       2584\n",
      "        19       4181\n",
      "        20       6765\n"
     ]
    }
   ],
   "source": [
    "print('{:>10} {:>10}'.format('n', 'Fibonacci'))\n",
    "for n in range(20):\n",
    "    print(\"{0:>10d} {1:>10d}\".format(n+1, fibonacci[n].astype(int)))"
   ]
  },
  {
   "cell_type": "markdown",
   "metadata": {},
   "source": [
    "If we wanted to left justify our columns we can just switch the `{x:>10d}` to `{x:<10d}`."
   ]
  },
  {
   "cell_type": "markdown",
   "metadata": {
    "slideshow": {
     "slide_type": "slide"
    }
   },
   "source": [
    "## Information: Python documentation\n",
    "If you want to look at the whole variety of string formatting options available, go to the [Python 'Input and Output'](https://docs.python.org/3/tutorial/inputoutput.html) documentation. "
   ]
  },
  {
   "cell_type": "markdown",
   "metadata": {},
   "source": [
    "Where this becomes more important is when we're writing to a file. We could just write the output as it is above to a file, but what if we had some more complicated data, or data with missing values? If we were relying on the spaces between the columns to tell our code which values correspond to each variable then we're going to run into problems. "
   ]
  },
  {
   "cell_type": "markdown",
   "metadata": {},
   "source": [
    "## Exercise: Exercise 4\n",
    "\n",
    "In the C5 worksheet we used `np.loadtxt` and `np.savetxt`. Use `np.savetxt` to save the output of your Fibonacci code to a text file. Format the output so each column has a heading and the columns are separated by commas. \n",
    "\n",
    "**Hint**: Remind yourself about the `delimeter` argument for `np.savetxt`. You can see information about all the arguments for this function [here](https://numpy.org/doc/stable/reference/generated/numpy.savetxt.html). \n",
    "\n",
    "Once you've written the results to a file, use `np.loadtxt` to read it back in. Check that you get back what you expect.\n",
    "[solution]()"
   ]
  },
  {
   "cell_type": "markdown",
   "metadata": {},
   "source": [
    "## Solution+:  Exercise 4\n",
    "\n",
    "The first step is to print the output to a file. We've already got our `fibonacci` array, but we also want to print the `n` values. We need to create another array for that to send to `np.savetxt` with the output. We also need with some extra arguements for the delimeter and the heading. \n",
    "\n",
    "To get the `n` values we use `np.arange(1,21,1)` This gives us a numpy array with the values 1 to 20 in steps of 1. "
   ]
  },
  {
   "cell_type": "code",
   "execution_count": 9,
   "metadata": {},
   "outputs": [],
   "source": [
    "n = np.arange(1,21,1)\n",
    "np.savetxt('fibonacci_20.txt', list(zip(n, fibonacci)), fmt=\"%10d\", header='{:>10}, {:>10}'.format('n', 'Fibonacci'), delimiter=',')"
   ]
  },
  {
   "cell_type": "markdown",
   "metadata": {},
   "source": [
    "Now we should read the file back in to check that it's printed as we expect. Remember to tell `loadtxt` to unpack the data into the variables. This time we're also specifying `dtype='int'` so that it reads our variables in as integers."
   ]
  },
  {
   "cell_type": "code",
   "execution_count": 10,
   "metadata": {},
   "outputs": [],
   "source": [
    "n2, fib = np.loadtxt('fibonacci_20.txt', unpack=True, dtype='int', delimiter=',')"
   ]
  },
  {
   "cell_type": "markdown",
   "metadata": {},
   "source": [
    "Finally print the variables `n2` and `fib` along with their shapes to check that everything worked as expected"
   ]
  },
  {
   "cell_type": "code",
   "execution_count": 11,
   "metadata": {},
   "outputs": [
    {
     "name": "stdout",
     "output_type": "stream",
     "text": [
      "[ 1  2  3  4  5  6  7  8  9 10 11 12 13 14 15 16 17 18 19 20] (20,)\n",
      "[   1    1    2    3    5    8   13   21   34   55   89  144  233  377\n",
      "  610  987 1597 2584 4181 6765] (20,)\n"
     ]
    }
   ],
   "source": [
    "print(n2, n2.shape)\n",
    "print(fib, fib.shape)\n"
   ]
  },
  {
   "cell_type": "markdown",
   "metadata": {},
   "source": [
    ":solution+"
   ]
  },
  {
   "cell_type": "markdown",
   "metadata": {},
   "source": [
    "## Information: Columns\n",
    "\n",
    "In Exercise 4 we used `list(zip(n, fibonacci))` to get `np.savetxt` to print our arrays as columns in the file. Another option is to use `np.column_stack([n, fibonacci])`. Both do the same thing, but I find `column_stack()` a little more intuitive (and easier to remember).\n"
   ]
  },
  {
   "cell_type": "markdown",
   "metadata": {},
   "source": [
    "## Put it all in a function\n",
    "\n",
    "Now that we have some code that we know works for calculating the Fibonacci sequence and writing the results to a file we can put it all together in a function. You've come across functions before, in semester 1 and in the previous section of this lesson when you defined a function to fit a straight line. \n",
    "\n",
    "Here we want to define a function that will calculate the first `n` terms of the Fibonacci sequence and save them to a file.\n",
    "\n",
    "When we define a function we tell it what arguments to expect in the parentheses on the `def` line (I nearly wrote brackets here, but Dr Davies reminded us all in Week 2's Zoom session that these are not brackets, they are parentheses...). Here `n_terms` is the number of terms we want and `filename` is the filename (obvs)."
   ]
  },
  {
   "cell_type": "code",
   "execution_count": 12,
   "metadata": {},
   "outputs": [],
   "source": [
    "def fib_fn(n_terms, filename):\n",
    "    fibonacci = np.zeros(n_terms)\n",
    "    for n in range(n_terms):\n",
    "        if n < 2:\n",
    "            fibonacci[n] = 1\n",
    "        else:\n",
    "            fibonacci[n] = fibonacci[n-2] + fibonacci[n-1]\n",
    "    n = np.arange(1,n_terms+1,1) ## getting our array so we can print the n values\n",
    "    np.savetxt(filename, np.column_stack([n, fibonacci]), fmt=\"%10d\", header='{:>10}, {:>10}'.format('n', 'Fibonacci'), delimiter=',')\n",
    "    return(n, fibonacci)"
   ]
  },
  {
   "cell_type": "markdown",
   "metadata": {},
   "source": [
    "Take note of the last line of the function:\n",
    "```py\n",
    "    return(n, fibonacci)\n",
    "```\n",
    "This is a **return value**. Every time the function runs it will return the arrays `n` and `fibonacci`. This is useful - we can see what the result was without looking in the file, either by just running the function like below:"
   ]
  },
  {
   "cell_type": "code",
   "execution_count": 13,
   "metadata": {},
   "outputs": [
    {
     "data": {
      "text/plain": [
       "(array([ 1,  2,  3,  4,  5,  6,  7,  8,  9, 10]),\n",
       " array([ 1.,  1.,  2.,  3.,  5.,  8., 13., 21., 34., 55.]))"
      ]
     },
     "execution_count": 13,
     "metadata": {},
     "output_type": "execute_result"
    }
   ],
   "source": [
    "fib_fn(10, 'fibonacci_10.txt')"
   ]
  },
  {
   "cell_type": "markdown",
   "metadata": {},
   "source": [
    "Or by sending the output to some new variables (a bit like we do with `np.loadtxt`):"
   ]
  },
  {
   "cell_type": "code",
   "execution_count": 14,
   "metadata": {},
   "outputs": [
    {
     "name": "stdout",
     "output_type": "stream",
     "text": [
      "[ 1  2  3  4  5  6  7  8  9 10]\n",
      "[ 1.  1.  2.  3.  5.  8. 13. 21. 34. 55.]\n"
     ]
    }
   ],
   "source": [
    "fn_n, fn_fib = fib_fn(10, 'fibonacci_10.txt')\n",
    "print(fn_n)\n",
    "print(fn_fib)"
   ]
  },
  {
   "cell_type": "markdown",
   "metadata": {},
   "source": [
    "### Default values\n",
    "\n",
    "The final thing we can do to make this function more useful is to set some default values for the arguments. These are the values that will be used if we don't specify anthing. We're not going to set a default value for `n_terms` as we always want to specify that, but we can give it a default filename."
   ]
  },
  {
   "cell_type": "code",
   "execution_count": 15,
   "metadata": {},
   "outputs": [],
   "source": [
    "def fib_fn(n_terms, filename='fibonacci_results.txt'):\n",
    "    fibonacci = np.zeros(n_terms)\n",
    "    for n in range(n_terms):\n",
    "        if n < 2:\n",
    "            fibonacci[n] = 1\n",
    "        else:\n",
    "            fibonacci[n] = fibonacci[n-2] + fibonacci[n-1]\n",
    "    n = np.arange(1,n_terms+1,1) ## getting our array so we can print the n values\n",
    "    np.savetxt(filename, np.column_stack([n, fibonacci]), fmt=\"%10d\", header='{:>10}, {:>10}'.format('n', 'Fibonacci'), delimiter=',')\n",
    "    return(n, fibonacci)"
   ]
  },
  {
   "cell_type": "markdown",
   "metadata": {},
   "source": [
    "Now if we run the function and only specify `n_terms`, the function will still run and it will save the results to `fibonacci_results.txt`. Be careful though! You won't get a warning if the file exists already - it will just get overwritten."
   ]
  },
  {
   "cell_type": "code",
   "execution_count": 16,
   "metadata": {},
   "outputs": [
    {
     "data": {
      "text/plain": [
       "(array([1, 2, 3, 4, 5]), array([1., 1., 2., 3., 5.]))"
      ]
     },
     "execution_count": 16,
     "metadata": {},
     "output_type": "execute_result"
    }
   ],
   "source": [
    "fib_fn(5)"
   ]
  },
  {
   "cell_type": "markdown",
   "metadata": {
    "slideshow": {
     "slide_type": "slide"
    }
   },
   "source": [
    "## Key Points:\n",
    "- Write out your programs in pseudocode before diving straight into Python to help you figure out the logic your code needs to follow.\n",
    "- You can (and should!) use the markdown cells in your notebook to write what your code is doing and why it's doing it.\n",
    "- Break your code down into individual steps before you start to put it all together in a function - it's much easier to spot problems that way.\n",
    "- Default values for function arguments can be set when you define your function."
   ]
  }
 ],
 "metadata": {
  "celltoolbar": "Slideshow",
  "kernelspec": {
   "display_name": "Python 3",
   "language": "python",
   "name": "python3"
  },
  "language_info": {
   "codemirror_mode": {
    "name": "ipython",
    "version": 3
   },
   "file_extension": ".py",
   "mimetype": "text/x-python",
   "name": "python",
   "nbconvert_exporter": "python",
   "pygments_lexer": "ipython3",
   "version": "3.7.3"
  }
 },
 "nbformat": 4,
 "nbformat_minor": 2
}

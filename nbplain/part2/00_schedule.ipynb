{
 "cells": [
  {
   "cell_type": "markdown",
   "metadata": {
    "slideshow": {
     "slide_type": "slide"
    }
   },
   "source": [
    "# Handling with data with Python and Pandas\n",
    "\n",
    "In this set of notebooks we'll be looking at how to work with data using `pandas`."
   ]
  },
  {
   "cell_type": "markdown",
   "metadata": {
    "slideshow": {
     "slide_type": "slide"
    }
   },
   "source": [
    "## Prerequisites:\n",
    "\n",
    "In this section I assume that you have worked through the notebooks and exercises in the Introduction to Jupyter notebooks section. "
   ]
  },
  {
   "cell_type": "markdown",
   "metadata": {
    "slideshow": {
     "slide_type": "slide"
    }
   },
   "source": [
    "## Schedule:\n",
    "\n",
    "|  Section | Description |\n",
    "|---|---|\n",
    "|[Introduction to `pandas`](01_intro_pandas.ipynb) | Introduction to the `pandas` package |\n",
    "| [Cleaning data with `pandas`](02_cleaning_data.ipynb) | How to clean a dataset |\n",
    "| [Analysing dataframes](03_working_with_data.ipynb) | Analysing data and doing some science | \n",
    "| [Further exercises](04_further_exercises.ipynb) | Further exercises |"
   ]
  },
  {
   "cell_type": "markdown",
   "metadata": {
    "slideshow": {
     "slide_type": "slide"
    }
   },
   "source": [
    "## Setup:\n",
    "\n",
    "If you are using anaconda, the `pandas` package is most likely already installed. If you don't already have it you can install it with one of the following options:\n",
    "\n",
    "- Search for `pandas` in anaconda navigator\n",
    "- Run `conda install pandas` from a terminal\n",
    "- Run `!pip install pandas` from a notebook cell.\n",
    "\n",
    "If you don't have it installed and you can't get any of the above to work, please post to the teams channel or email me directly."
   ]
  },
  {
   "cell_type": "code",
   "execution_count": null,
   "metadata": {},
   "outputs": [],
   "source": []
  }
 ],
 "metadata": {
  "celltoolbar": "Slideshow",
  "kernelspec": {
   "display_name": "Python 3",
   "language": "python",
   "name": "python3"
  },
  "language_info": {
   "codemirror_mode": {
    "name": "ipython",
    "version": 3
   },
   "file_extension": ".py",
   "mimetype": "text/x-python",
   "name": "python",
   "nbconvert_exporter": "python",
   "pygments_lexer": "ipython3",
   "version": "3.7.9"
  }
 },
 "nbformat": 4,
 "nbformat_minor": 2
}

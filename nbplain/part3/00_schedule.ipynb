{
 "cells": [
  {
   "cell_type": "markdown",
   "metadata": {
    "slideshow": {
     "slide_type": "slide"
    }
   },
   "source": [
    "# Least squares fitting and uncertainties\n",
    "\n",
    "This week we're looking in more detail about how to fit a model to data and how to assess uncertainties. "
   ]
  },
  {
   "cell_type": "markdown",
   "metadata": {
    "slideshow": {
     "slide_type": "slide"
    }
   },
   "source": [
    "## Schedule:\n",
    "\n",
    "|  Section | Description |\n",
    "|---|---|\n",
    "|[Least Squares Fitting](01_least_squares_fitting.ipynb) | Introduction to least squares fitting |\n",
    "| [Choosing a function](02_choosing_function.ipynb) | How to choose what function to fit |\n",
    "| [Uncertainties](03_uncertainties.ipynb) | Uncertainties on fits | \n"
   ]
  },
  {
   "cell_type": "markdown",
   "metadata": {
    "slideshow": {
     "slide_type": "slide"
    }
   },
   "source": [
    "## Setup:\n",
    "\n",
    "You shouldn't need to install any new packages for this section.\n",
    "\n",
    "You'll need the [BoltData.csv](../data/BoltData.csv) file that we've used before in the first section.\n",
    "\n",
    "In sections 2 and 3 you'll need [LMC_Cepheids.csv](../data/LMC_Cepheids.csv) and [HV00872_phot.csv](../data/HV00872_phot.csv). Save these files somewhere you can easily find them."
   ]
  },
  {
   "cell_type": "code",
   "execution_count": null,
   "metadata": {},
   "outputs": [],
   "source": []
  }
 ],
 "metadata": {
  "celltoolbar": "Slideshow",
  "kernelspec": {
   "display_name": "Python 3",
   "language": "python",
   "name": "python3"
  },
  "language_info": {
   "codemirror_mode": {
    "name": "ipython",
    "version": 3
   },
   "file_extension": ".py",
   "mimetype": "text/x-python",
   "name": "python",
   "nbconvert_exporter": "python",
   "pygments_lexer": "ipython3",
   "version": "3.7.3"
  }
 },
 "nbformat": 4,
 "nbformat_minor": 2
}

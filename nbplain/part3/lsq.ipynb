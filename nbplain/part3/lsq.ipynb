{
 "cells": [
  {
   "cell_type": "code",
   "execution_count": 1,
   "metadata": {},
   "outputs": [],
   "source": [
    "%config InlineBackend.figure_format = 'retina'\n",
    "%matplotlib inline\n",
    "\n",
    "import matplotlib.pyplot as plt\n",
    "import numpy as np\n",
    "import pandas as pd\n",
    "from scipy.optimize import curve_fit\n",
    "plt.rcParams.update({'font.size':15})"
   ]
  },
  {
   "cell_type": "code",
   "execution_count": 2,
   "metadata": {},
   "outputs": [],
   "source": [
    "bolt_df = pd.read_csv('../data/BoltData.csv', names=('distance', 'err_distance', 'time', 'err_time'), header=0)"
   ]
  },
  {
   "cell_type": "code",
   "execution_count": 3,
   "metadata": {},
   "outputs": [
    {
     "data": {
      "text/html": [
       "<div>\n",
       "<style scoped>\n",
       "    .dataframe tbody tr th:only-of-type {\n",
       "        vertical-align: middle;\n",
       "    }\n",
       "\n",
       "    .dataframe tbody tr th {\n",
       "        vertical-align: top;\n",
       "    }\n",
       "\n",
       "    .dataframe thead th {\n",
       "        text-align: right;\n",
       "    }\n",
       "</style>\n",
       "<table border=\"1\" class=\"dataframe\">\n",
       "  <thead>\n",
       "    <tr style=\"text-align: right;\">\n",
       "      <th></th>\n",
       "      <th>distance</th>\n",
       "      <th>err_distance</th>\n",
       "      <th>time</th>\n",
       "      <th>err_time</th>\n",
       "    </tr>\n",
       "  </thead>\n",
       "  <tbody>\n",
       "    <tr>\n",
       "      <th>0</th>\n",
       "      <td>0</td>\n",
       "      <td>0.02</td>\n",
       "      <td>0.000000</td>\n",
       "      <td>1.004810</td>\n",
       "    </tr>\n",
       "    <tr>\n",
       "      <th>1</th>\n",
       "      <td>10</td>\n",
       "      <td>0.02</td>\n",
       "      <td>0.923422</td>\n",
       "      <td>0.637569</td>\n",
       "    </tr>\n",
       "    <tr>\n",
       "      <th>2</th>\n",
       "      <td>20</td>\n",
       "      <td>0.02</td>\n",
       "      <td>2.178145</td>\n",
       "      <td>0.382366</td>\n",
       "    </tr>\n",
       "    <tr>\n",
       "      <th>3</th>\n",
       "      <td>30</td>\n",
       "      <td>0.02</td>\n",
       "      <td>2.461897</td>\n",
       "      <td>0.911785</td>\n",
       "    </tr>\n",
       "    <tr>\n",
       "      <th>4</th>\n",
       "      <td>40</td>\n",
       "      <td>0.02</td>\n",
       "      <td>3.387051</td>\n",
       "      <td>0.198510</td>\n",
       "    </tr>\n",
       "    <tr>\n",
       "      <th>5</th>\n",
       "      <td>50</td>\n",
       "      <td>0.02</td>\n",
       "      <td>5.263879</td>\n",
       "      <td>1.152222</td>\n",
       "    </tr>\n",
       "    <tr>\n",
       "      <th>6</th>\n",
       "      <td>60</td>\n",
       "      <td>0.02</td>\n",
       "      <td>6.042705</td>\n",
       "      <td>0.161827</td>\n",
       "    </tr>\n",
       "    <tr>\n",
       "      <th>7</th>\n",
       "      <td>70</td>\n",
       "      <td>0.02</td>\n",
       "      <td>7.939192</td>\n",
       "      <td>0.732011</td>\n",
       "    </tr>\n",
       "    <tr>\n",
       "      <th>8</th>\n",
       "      <td>80</td>\n",
       "      <td>0.02</td>\n",
       "      <td>8.221779</td>\n",
       "      <td>1.267329</td>\n",
       "    </tr>\n",
       "    <tr>\n",
       "      <th>9</th>\n",
       "      <td>90</td>\n",
       "      <td>0.02</td>\n",
       "      <td>8.578128</td>\n",
       "      <td>0.590908</td>\n",
       "    </tr>\n",
       "    <tr>\n",
       "      <th>10</th>\n",
       "      <td>100</td>\n",
       "      <td>0.02</td>\n",
       "      <td>9.562874</td>\n",
       "      <td>1.022337</td>\n",
       "    </tr>\n",
       "  </tbody>\n",
       "</table>\n",
       "</div>"
      ],
      "text/plain": [
       "    distance  err_distance      time  err_time\n",
       "0          0          0.02  0.000000  1.004810\n",
       "1         10          0.02  0.923422  0.637569\n",
       "2         20          0.02  2.178145  0.382366\n",
       "3         30          0.02  2.461897  0.911785\n",
       "4         40          0.02  3.387051  0.198510\n",
       "5         50          0.02  5.263879  1.152222\n",
       "6         60          0.02  6.042705  0.161827\n",
       "7         70          0.02  7.939192  0.732011\n",
       "8         80          0.02  8.221779  1.267329\n",
       "9         90          0.02  8.578128  0.590908\n",
       "10       100          0.02  9.562874  1.022337"
      ]
     },
     "execution_count": 3,
     "metadata": {},
     "output_type": "execute_result"
    }
   ],
   "source": [
    "bolt_df"
   ]
  },
  {
   "cell_type": "code",
   "execution_count": null,
   "metadata": {},
   "outputs": [],
   "source": []
  },
  {
   "cell_type": "code",
   "execution_count": 4,
   "metadata": {},
   "outputs": [],
   "source": [
    "def line(x, slope, intercept):          # Set up the linear fitting - don't ammend\n",
    "    return slope*x + intercept          # More set up, leave alone.\n",
    "\n",
    "# Next few line, fits a line to the (x data, and y data) no need to change things.\n",
    "popt, pcov = curve_fit(line,bolt_df.distance,bolt_df.time)\n",
    "slope = popt[0]\n",
    "intercept = popt[1]\n",
    "err_slope = np.sqrt(float(pcov[0][0]))\n",
    "err_intercept = np.sqrt(float(pcov[1][1]))"
   ]
  },
  {
   "cell_type": "code",
   "execution_count": 5,
   "metadata": {},
   "outputs": [
    {
     "data": {
      "image/png": "[encoded data removed]",
      "text/plain": [
       "<Figure size 720x432 with 1 Axes>"
      ]
     },
     "metadata": {
      "image/png": {
       "height": 372,
       "width": 607
      },
      "needs_background": "light"
     },
     "output_type": "display_data"
    }
   ],
   "source": [
    "fig = plt.figure(figsize=(10,6))\n",
    "ax = fig.add_subplot(1,1,1)\n",
    "#ax.errorbar(bolt_df.distance, bolt_df.time, yerr=bolt_df.err_time, color='k', marker='o', linestyle='None')\n",
    "ax.plot(bolt_df.distance, bolt_df.time, 'ko', ls='None', label='($x_i, y_i$)')\n",
    "ax.set_xlabel('Distance (m)')\n",
    "ax.set_ylabel('Time (s)')\n",
    "ax.plot(bolt_df.distance, bolt_df.distance*slope+intercept, \n",
    "         linestyle='--',\n",
    "         color='dodgerblue',\n",
    "         label='$f(x) = m x + c$')\n",
    "\n",
    "delta_y = bolt_df.time - bolt_df.distance*slope+intercept\n",
    "ax.vlines(bolt_df.distance, bolt_df.time, bolt_df.distance*slope+intercept, 'r')\n",
    "#ax.set_ylim(0,10)\n",
    "#ax.annotate('Minimise $\\Delta y$\\'s', xy=(68, 7), xycoords='data',fontsize=14, ha='center')\n",
    "ax.arrow(0.726, 0.056, 0.113, -0.092, head_width=0.03, head_length=0.03, fc='k', ec='k')\n",
    "#ax4.arrow(1.032, 0.143, 0.748, -0.169, head_width=0.03, head_length=0.03, fc='k', ec='k')plt.show()\n",
    "#ax.annotate(\"Minimise $\\sum(\\Delta y)^2$\", xy=(68, 7), xytext=(55, 7.5),arrowprops=dict(arrowstyle=\"->\", color='r'), ha='center')\n",
    "ax.annotate(\"$\\Delta_i = y_i - m x_i - c$\", xy=(68, 7), xytext=(55, 7.5),arrowprops=dict(arrowstyle=\"->\", color='r'), ha='center')\n",
    "ax.annotate(\"\", xy=(41, 3.5), xytext=(55, 7.2),arrowprops=dict(arrowstyle=\"->\", color='r'), ha='center')\n",
    "plt.legend()\n",
    "plt.savefig('../images/delta_plot.png', dpi=300)\n",
    "plt.show()"
   ]
  },
  {
   "cell_type": "code",
   "execution_count": 6,
   "metadata": {},
   "outputs": [
    {
     "name": "stdout",
     "output_type": "stream",
     "text": [
      "0.10015849092440099 -0.04800871322956479\n"
     ]
    }
   ],
   "source": [
    "print(slope, intercept)"
   ]
  },
  {
   "cell_type": "markdown",
   "metadata": {},
   "source": [
    "doing least squares by hand\n",
    "\n",
    "normal equations\n",
    "\n",
    "$$\n",
    "\\sum y = a n + b \\sum x\n",
    "$$\n",
    "\n",
    "$$\n",
    "\\sum xy = a \\sum x + b \\sum x^2\n",
    "$$"
   ]
  },
  {
   "cell_type": "markdown",
   "metadata": {},
   "source": [
    "Need to find $\\sum y$, $\\sum x$, $\\sum xy$, $\\sum x^2$ and $n$"
   ]
  },
  {
   "cell_type": "code",
   "execution_count": 7,
   "metadata": {},
   "outputs": [],
   "source": [
    "sum_y = np.sum(bolt_df.time)\n",
    "sum_x = np.sum(bolt_df.distance)\n",
    "sum_xy = np.sum((bolt_df.time * bolt_df.distance))\n",
    "sum_x2 = np.sum((bolt_df.time)**2)\n",
    "n = np.size(bolt_df.time)"
   ]
  },
  {
   "cell_type": "code",
   "execution_count": 8,
   "metadata": {},
   "outputs": [
    {
     "name": "stdout",
     "output_type": "stream",
     "text": [
      "54.559074164 550 3829.69710839 383.0140610297195 11\n"
     ]
    }
   ],
   "source": [
    "print(sum_y, sum_x, sum_xy, sum_x2, n)"
   ]
  },
  {
   "cell_type": "markdown",
   "metadata": {},
   "source": [
    "Rearrange the equations:\n",
    "\n",
    "\n",
    "From first normal equation (diff wrt a)\n",
    "$$\n",
    "b \\sum x = \\sum y - an\n",
    "$$\n",
    "\n",
    "$$\n",
    "b = \\dfrac{\\sum y - an}{\\sum x}\n",
    "$$\n",
    "\n",
    "From second normal equation (diff wrt b)\n",
    "\n",
    "$$\n",
    "b \\sum x^2 = \\sum xy - a \\sum x \\\\\n",
    "b = \\dfrac{\\sum xy - a \\sum x}{\\sum x^2}\n",
    "$$\n",
    "\n",
    "\n",
    "Need to get just a or b not both\n",
    "\n"
   ]
  },
  {
   "cell_type": "code",
   "execution_count": 9,
   "metadata": {},
   "outputs": [],
   "source": [
    "a = (sum_xy*sum_x - sum_y*sum_x2) / ((sum_x)**2 - (sum_x2*n))"
   ]
  },
  {
   "cell_type": "code",
   "execution_count": 10,
   "metadata": {},
   "outputs": [
    {
     "name": "stdout",
     "output_type": "stream",
     "text": [
      "6.991379437987105\n"
     ]
    }
   ],
   "source": [
    "print(a)"
   ]
  },
  {
   "cell_type": "code",
   "execution_count": 11,
   "metadata": {},
   "outputs": [
    {
     "name": "stdout",
     "output_type": "stream",
     "text": [
      "-0.04062927209792391\n"
     ]
    }
   ],
   "source": [
    "b = (sum_y - a*n) / sum_x\n",
    "print(b)"
   ]
  },
  {
   "cell_type": "code",
   "execution_count": 12,
   "metadata": {},
   "outputs": [],
   "source": [
    "x_data = np.array((-2.4, -0.8, 0.3, 1.9, 3.2))\n",
    "y_data = np.array((-5.0, -1.5, 2.5, 6.4, 11.0))"
   ]
  },
  {
   "cell_type": "code",
   "execution_count": 13,
   "metadata": {},
   "outputs": [
    {
     "data": {
      "text/plain": [
       "[<matplotlib.lines.Line2D at 0x7fee98b7a828>]"
      ]
     },
     "execution_count": 13,
     "metadata": {},
     "output_type": "execute_result"
    },
    {
     "data": {
      "image/png": "[encoded data removed]",
      "text/plain": [
       "<Figure size 432x288 with 1 Axes>"
      ]
     },
     "metadata": {
      "image/png": {
       "height": 250,
       "width": 372
      },
      "needs_background": "light"
     },
     "output_type": "display_data"
    }
   ],
   "source": [
    "plt.plot(x_data, y_data)"
   ]
  },
  {
   "cell_type": "code",
   "execution_count": 14,
   "metadata": {},
   "outputs": [],
   "source": [
    "def line(x, slope, intercept):          # Set up the linear fitting - don't ammend\n",
    "    return slope*x + intercept          # More set up, leave alone.\n",
    "\n",
    "# Next few line, fits a line to the (x data, and y data) no need to change things.\n",
    "popt, pcov = curve_fit(line,x_data, y_data)\n",
    "slope = popt[0]\n",
    "intercept = popt[1]\n",
    "err_slope = np.sqrt(float(pcov[0][0]))\n",
    "err_intercept = np.sqrt(float(pcov[1][1]))"
   ]
  },
  {
   "cell_type": "code",
   "execution_count": 15,
   "metadata": {},
   "outputs": [
    {
     "name": "stdout",
     "output_type": "stream",
     "text": [
      "2.8605203389805864 1.4213710552870729\n"
     ]
    }
   ],
   "source": [
    "print(slope, intercept)"
   ]
  },
  {
   "cell_type": "code",
   "execution_count": 16,
   "metadata": {},
   "outputs": [],
   "source": [
    "sum_y = np.sum(y_data)\n",
    "sum_x = np.sum(x_data)\n",
    "sum_xy = np.sum((x_data * y_data))\n",
    "sum_x2 = np.sum((x_data)**2)\n",
    "n = np.size(x_data)"
   ]
  },
  {
   "cell_type": "code",
   "execution_count": 17,
   "metadata": {},
   "outputs": [
    {
     "name": "stdout",
     "output_type": "stream",
     "text": [
      "13.4 2.1999999999999997 61.31 20.340000000000003 5\n"
     ]
    }
   ],
   "source": [
    "print(sum_y, sum_x, sum_xy, sum_x2, n)"
   ]
  },
  {
   "cell_type": "code",
   "execution_count": 18,
   "metadata": {},
   "outputs": [
    {
     "name": "stdout",
     "output_type": "stream",
     "text": [
      "2.860520338633078\n"
     ]
    }
   ],
   "source": [
    "b = (sum_xy / sum_x - sum_y / n) / (sum_x2 / sum_x - sum_x/n)\n",
    "print(b)"
   ]
  },
  {
   "cell_type": "code",
   "execution_count": 19,
   "metadata": {},
   "outputs": [
    {
     "name": "stdout",
     "output_type": "stream",
     "text": [
      "1.421371051001446\n"
     ]
    }
   ],
   "source": [
    "a = (sum_y - b*sum_x)/n\n",
    "print(a)"
   ]
  },
  {
   "cell_type": "code",
   "execution_count": 20,
   "metadata": {},
   "outputs": [
    {
     "data": {
      "text/plain": [
       "<Figure size 432x288 with 0 Axes>"
      ]
     },
     "metadata": {},
     "output_type": "display_data"
    }
   ],
   "source": [
    "plt.savefig('../images/boltanswer.png', dpi=300)\n",
    "\n"
   ]
  },
  {
   "cell_type": "markdown",
   "metadata": {
    "slideshow": {
     "slide_type": "slide"
    }
   },
   "source": [
    "# Introduction"
   ]
  },
  {
   "cell_type": "markdown",
   "metadata": {
    "slideshow": {
     "slide_type": "subslide"
    }
   },
   "source": [
    "## Overview:\n",
    "- **Teaching:** 0 min\n",
    "- **Exercises:** 0 min\n",
    "\n",
    "**Questions**\n",
    "- Ask some questions?\n",
    "\n",
    "**Objectives**\n",
    "- Set some objectives"
   ]
  },
  {
   "cell_type": "markdown",
   "metadata": {
    "slideshow": {
     "slide_type": "slide"
    }
   },
   "source": [
    "Add lesson material here"
   ]
  },
  {
   "cell_type": "markdown",
   "metadata": {
    "slideshow": {
     "slide_type": "slide"
    }
   },
   "source": [
    "## Key Points:\n",
    "- Conclude with some key points"
   ]
  }
 ],
 "metadata": {
  "celltoolbar": "Slideshow",
  "kernelspec": {
   "display_name": "Python 3",
   "language": "python",
   "name": "python3"
  },
  "language_info": {
   "codemirror_mode": {
    "name": "ipython",
    "version": 3
   },
   "file_extension": ".py",
   "mimetype": "text/x-python",
   "name": "python",
   "nbconvert_exporter": "python",
   "pygments_lexer": "ipython3",
   "version": "3.7.3"
  }
 },
 "nbformat": 4,
 "nbformat_minor": 2
}

{
 "cells": [
  {
   "cell_type": "markdown",
   "metadata": {
    "slideshow": {
     "slide_type": "slide"
    }
   },
   "source": [
    "# More `pandas` and `plt`\n",
    "\n",
    "This week we're looking at more things with `pandas` and `matplotlib`. We'll be combining multiple datasets and looking at multi-dimensional data (ooooooh)."
   ]
  },
  {
   "cell_type": "markdown",
   "metadata": {
    "slideshow": {
     "slide_type": "slide"
    }
   },
   "source": [
    "## Prerequisites:\n",
    "\n",
    "You should have worked through the previous weeks' notebooks to get the most out of this section."
   ]
  },
  {
   "cell_type": "markdown",
   "metadata": {
    "slideshow": {
     "slide_type": "slide"
    }
   },
   "source": [
    "## Schedule:\n",
    "\n",
    "| Section | Description |\n",
    "|---|---|\n",
    "| [Combining datasets with `pandas`](01_multiple_data_sets.ipynb) | Combining multiple datasets, merging data, saving dataframes |\n",
    "| [More fun with functions, dataframes and plotting](02_fancy_data_stuff.ipynb) | Using `apply`, making some fancy plots|"
   ]
  },
  {
   "cell_type": "markdown",
   "metadata": {
    "slideshow": {
     "slide_type": "slide"
    }
   },
   "source": [
    "## Setup:\n",
    "\n",
    "You'll need the following files for this section:\n",
    "\n",
    "* [optical_data.csv](../data/optical_data.csv)\n",
    "* [gaia_distances.csv](../data/gaia_distances.csv)\n",
    "* [reddenings.csv](../data/reddenings.csv)"
   ]
  },
  {
   "cell_type": "code",
   "execution_count": null,
   "metadata": {},
   "outputs": [],
   "source": []
  }
 ],
 "metadata": {
  "celltoolbar": "Slideshow",
  "kernelspec": {
   "display_name": "Python 3",
   "language": "python",
   "name": "python3"
  },
  "language_info": {
   "codemirror_mode": {
    "name": "ipython",
    "version": 3
   },
   "file_extension": ".py",
   "mimetype": "text/x-python",
   "name": "python",
   "nbconvert_exporter": "python",
   "pygments_lexer": "ipython3",
   "version": "3.7.3"
  }
 },
 "nbformat": 4,
 "nbformat_minor": 2
}
